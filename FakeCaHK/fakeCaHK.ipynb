{
 "cells": [
  {
   "cell_type": "code",
   "execution_count": 1,
   "metadata": {},
   "outputs": [
    {
     "name": "stderr",
     "output_type": "stream",
     "text": [
      "Using TensorFlow backend.\n"
     ]
    },
    {
     "name": "stdout",
     "output_type": "stream",
     "text": [
      "\n",
      "Data saved\n",
      "\n",
      "condition on dg_fpsf cut 22 inputs\n",
      "condition on dr_fpsf cut 23 inputs\n",
      "condition on di_fpsf cut 6 inputs\n",
      "condition on dz_fpsf cut 2 inputs\n",
      "condition on dy_fpsf cut 14 inputs\n",
      "condition on dCaHK_0 cut 14 inputs\n",
      "condition on du_0 cut 158 inputs\n",
      "condition on dFeHadop cut 280 inputs\n",
      "10.66% of inputs cut\n",
      "\n",
      "Data saved\n",
      "\n",
      "condition on dFeHadop cut 6 inputs\n",
      "1.42% of inputs cut\n"
     ]
    }
   ],
   "source": [
    "import sys\n",
    "sys.path.append(\"/home/watkinsz/Desktop/For_Zack/ML\")\n",
    "sys.path.append(\"/home/watkinsz/Desktop/For_Zack/ML/FeH\")\n",
    "from fitsParser.fitsParser import fitsParser\n",
    "import pandas as pd\n",
    "import numpy as np\n",
    "import re\n",
    "from modelValidator import psMetric, cut, shuffleDwarfs, conf_matrix, plotRes, plot, norm_inputs, monte_carlo, printTable, transformer_man\n",
    "from function import save_data\n",
    "from sklearn.neural_network import MLPRegressor as mlp\n",
    "import matplotlib.pyplot as plt\n",
    "from astropy.modeling import models, fitting\n",
    "fits= fitsParser(includefile = '../FeH/FeHdata.txt')\n",
    "youc = fits.getAllObj()[1]\n",
    "cut(fits)\n",
    "cut(youc)\n",
    "data = fits.data.sample(frac = 1)\n",
    "data['test_flag'] = [0]*int(len(data)*0.8)+[1]*(len(data)-int(len(data)*0.8))\n",
    "output = 'CaHK_0'\n",
    "inputs = [x for x in fits.inputs if x!=output]\n",
    "train = data[data['test_flag']==0]\n",
    "numbins = 5\n",
    "uncerts = train[fits.input_uncert]\n",
    "start =min(train['CaHK_0'])\n",
    "spread = max(train['CaHK_0'])-start\n",
    "bins = [train[(train['CaHK_0']>=i*spread/numbins+start)&(train['CaHK_0']<(i+1)*spread/numbins+start)] \n",
    "        if i!= numbins-1 else train[(train['CaHK_0']>=i*spread/numbins+start)]  for i in range (numbins)]\n",
    "maxsize = max([len(b) for b in bins])\n",
    "trainmonte = pd.DataFrame(columns = fits.inputs)\n",
    "for b in bins:\n",
    "    \n",
    "    if len(b)!=maxsize:\n",
    "        uncert = pd.DataFrame(columns = fits.inputs)\n",
    "        for key in uncert.keys():\n",
    "            uncert[key] = b['d'+key]\n",
    "        trainmonte = trainmonte.append(monte_carlo(b[fits.inputs], uncert, N=maxsize/len(b)), sort=True)\n",
    "    else:\n",
    "        trainmonte = trainmonte.append(b[fits.inputs], sort = True)\n",
    "train = trainmonte"
   ]
  },
  {
   "cell_type": "code",
   "execution_count": 2,
   "metadata": {},
   "outputs": [
    {
     "name": "stdout",
     "output_type": "stream",
     "text": [
      "Iteration 1, loss = 9.48757165\n",
      "Iteration 2, loss = 0.09997988\n",
      "Iteration 3, loss = 0.05211246\n",
      "Iteration 4, loss = 0.03951914\n",
      "Iteration 5, loss = 0.03790468\n",
      "Iteration 6, loss = 0.03716426\n",
      "Iteration 7, loss = 0.03580888\n",
      "Iteration 8, loss = 0.03436374\n",
      "Iteration 9, loss = 0.03388617\n",
      "Iteration 10, loss = 0.03354305\n",
      "Iteration 11, loss = 0.03277043\n",
      "Iteration 12, loss = 0.03297213\n",
      "Iteration 13, loss = 0.03235368\n",
      "Iteration 14, loss = 0.03279815\n",
      "Iteration 15, loss = 0.03259817\n",
      "Iteration 16, loss = 0.03223922\n",
      "Iteration 17, loss = 0.03229026\n",
      "Iteration 18, loss = 0.03221508\n",
      "Iteration 19, loss = 0.03194335\n",
      "Iteration 20, loss = 0.03234826\n",
      "Iteration 21, loss = 0.03173359\n",
      "Iteration 22, loss = 0.03182514\n",
      "Iteration 23, loss = 0.03213315\n",
      "Iteration 24, loss = 0.03210433\n",
      "Iteration 25, loss = 0.03185810\n",
      "Iteration 26, loss = 0.03190392\n",
      "Iteration 27, loss = 0.03237910\n",
      "Iteration 28, loss = 0.03138730\n",
      "Iteration 29, loss = 0.03162948\n",
      "Iteration 30, loss = 0.03173559\n",
      "Iteration 31, loss = 0.03127064\n",
      "Iteration 32, loss = 0.03119617\n",
      "Iteration 33, loss = 0.03206815\n",
      "Iteration 34, loss = 0.03246997\n",
      "Iteration 35, loss = 0.03159547\n",
      "Iteration 36, loss = 0.03173182\n",
      "Iteration 37, loss = 0.03117952\n",
      "Iteration 38, loss = 0.03266821\n",
      "Iteration 39, loss = 0.03156758\n",
      "Iteration 40, loss = 0.03216179\n",
      "Iteration 41, loss = 0.03228993\n",
      "Iteration 42, loss = 0.03129309\n",
      "Iteration 43, loss = 0.03097303\n",
      "Iteration 44, loss = 0.03243862\n",
      "Iteration 45, loss = 0.03082723\n",
      "Iteration 46, loss = 0.03107709\n",
      "Iteration 47, loss = 0.03196345\n",
      "Iteration 48, loss = 0.03085423\n",
      "Iteration 49, loss = 0.03117182\n",
      "Iteration 50, loss = 0.03124004\n",
      "Iteration 51, loss = 0.03107951\n",
      "Iteration 52, loss = 0.03316208\n",
      "Iteration 53, loss = 0.03204299\n",
      "Iteration 54, loss = 0.03176753\n",
      "Iteration 55, loss = 0.02984307\n",
      "Iteration 56, loss = 0.03297709\n",
      "Iteration 57, loss = 0.02947577\n",
      "Iteration 58, loss = 0.03185118\n",
      "Iteration 59, loss = 0.03073109\n",
      "Iteration 60, loss = 0.03090585\n",
      "Iteration 61, loss = 0.02942888\n",
      "Iteration 62, loss = 0.02943440\n",
      "Iteration 63, loss = 0.03032005\n",
      "Iteration 64, loss = 0.03006142\n",
      "Iteration 65, loss = 0.03129104\n",
      "Iteration 66, loss = 0.02930436\n",
      "Iteration 67, loss = 0.02930392\n",
      "Iteration 68, loss = 0.03069176\n",
      "Iteration 69, loss = 0.02918458\n",
      "Iteration 70, loss = 0.02917545\n",
      "Iteration 71, loss = 0.03024914\n",
      "Iteration 72, loss = 0.03189398\n",
      "Iteration 73, loss = 0.03024164\n",
      "Iteration 74, loss = 0.02968959\n",
      "Iteration 75, loss = 0.02850596\n",
      "Iteration 76, loss = 0.02881405\n",
      "Iteration 77, loss = 0.03355796\n",
      "Iteration 78, loss = 0.02971596\n",
      "Iteration 79, loss = 0.02873825\n",
      "Iteration 80, loss = 0.02960844\n",
      "Iteration 81, loss = 0.03024049\n",
      "Iteration 82, loss = 0.02914261\n",
      "Iteration 83, loss = 0.02892183\n",
      "Iteration 84, loss = 0.02908507\n",
      "Iteration 85, loss = 0.02977162\n",
      "Iteration 86, loss = 0.02844436\n",
      "Iteration 87, loss = 0.02880913\n",
      "Iteration 88, loss = 0.02847854\n",
      "Iteration 89, loss = 0.02981583\n",
      "Iteration 90, loss = 0.02960487\n",
      "Iteration 91, loss = 0.02961226\n",
      "Iteration 92, loss = 0.03060091\n",
      "Iteration 93, loss = 0.02882217\n",
      "Iteration 94, loss = 0.02932782\n",
      "Iteration 95, loss = 0.03006713\n",
      "Iteration 96, loss = 0.02908432\n",
      "Iteration 97, loss = 0.02902105\n",
      "Training loss did not improve more than tol=0.000000 for 10 consecutive epochs. Stopping.\n"
     ]
    },
    {
     "data": {
      "text/plain": [
       "MLPRegressor(activation='relu', alpha=0.0001, batch_size=600, beta_1=0.9,\n",
       "       beta_2=0.999, early_stopping=False, epsilon=1e-08,\n",
       "       hidden_layer_sizes=(64, 128, 64), learning_rate='constant',\n",
       "       learning_rate_init=0.001, max_iter=300, momentum=0.9,\n",
       "       n_iter_no_change=10, nesterovs_momentum=True, power_t=0.5,\n",
       "       random_state=None, shuffle=True, solver='adam', tol=0,\n",
       "       validation_fraction=0.1, verbose=True, warm_start=False)"
      ]
     },
     "execution_count": 2,
     "metadata": {},
     "output_type": "execute_result"
    }
   ],
   "source": [
    "params = {\n",
    "    'hidden_layer_sizes' : (64,128,64),\n",
    "    'max_iter' : 300,\n",
    "    'batch_size' : 600,\n",
    "    'solver' : 'adam',\n",
    "    'activation' : 'relu',\n",
    "    'verbose' : True,\n",
    "    'tol': 0\n",
    "}\n",
    "\n",
    "\n",
    "model = mlp(**params)\n",
    "model.fit(train[inputs], train[output])"
   ]
  },
  {
   "cell_type": "code",
   "execution_count": 3,
   "metadata": {},
   "outputs": [
    {
     "data": {
      "image/png": "[encoded data removed]",
      "text/plain": [
       "<Figure size 432x288 with 1 Axes>"
      ]
     },
     "metadata": {
      "needs_background": "light"
     },
     "output_type": "display_data"
    }
   ],
   "source": [
    "data['CaHK_pred'] = model.predict(data[inputs])\n",
    "data['res'] = data['CaHK_pred']-data['CaHK_0']\n",
    "res = [x for x in data[data['test_flag']==1]['res'] if -1<x<1]\n",
    "trainRes = [x for x in data['res'] if -1<x<1]\n",
    "plt.hist(trainRes, bins = 100 , histtype = 'step', color = 'red' , density = True , label = 'Training')\n",
    "y, x , _ = plt.hist(res, bins=100, histtype='step', color = 'blue', density = True, label = \"Testing\")\n",
    "plt.legend(loc = 'upper right')\n",
    "for i in range(len(x)-1):\n",
    "    x[i]=0.5*(x[i]+x[i+1])\n",
    "    \n",
    "    \n",
    "\n",
    "\n",
    "g_init = models.Gaussian1D(amplitude=5., mean=0.1, stddev=0.1)\n",
    "fit_g = fitting.LevMarLSQFitter()\n",
    "g = fit_g(g_init, x[:len(x)-1], y)\n",
    "plt.plot(x, g(x), 'k')\n",
    "\n",
    "plt.annotate('$\\sigma = %.5f$' % np.std(res),\n",
    "            xy=(50, 225), xycoords='figure points', fontsize=15)\n",
    "plt.annotate('$\\overline{x} =%.5f$'%(np.mean(res)),\n",
    "             xy=(50,200), xycoords = 'figure points', fontsize = 15)\n",
    "plt.title('PDF of Residuals', fontsize = 20)\n",
    "plt.xlabel('$CaH&K_0$ (expected - predicted)', fontsize = 15)\n",
    "plt.ylabel('Probability Desity')\n",
    "plt.savefig('fakeCaHKplt.png')\n",
    "plt.show()"
   ]
  },
  {
   "cell_type": "code",
   "execution_count": 4,
   "metadata": {},
   "outputs": [
    {
     "data": {
      "image/png": "[encoded data removed]",
      "text/plain": [
       "<Figure size 432x288 with 1 Axes>"
      ]
     },
     "metadata": {
      "needs_background": "light"
     },
     "output_type": "display_data"
    }
   ],
   "source": [
    "youc.data['CaHK_pred'] = model.predict(youc.data[inputs])\n",
    "youc.data['res'] = youc.data['CaHK_pred'] - youc.data['CaHK_0']\n",
    "youc.data['test_flag']=1\n",
    "res = [x for x in youc.data[youc.data['test_flag']==1]['res'] if -1<x<1]\n",
    "trainRes = [x for x in youc.data['res'] if -1<x<1]\n",
    "plt.hist(trainRes, bins = 100 , histtype = 'step', color = 'red' , density = True , label = 'Training')\n",
    "y, x , _ = plt.hist(res, bins=100, histtype='step', color = 'blue', density = True, label = \"Testing\")\n",
    "plt.legend(loc = 'upper right')\n",
    "for i in range(len(x)-1):\n",
    "    x[i]=0.5*(x[i]+x[i+1])\n",
    "    \n",
    "    \n",
    "\n",
    "\n",
    "g_init = models.Gaussian1D(amplitude=5., mean=0.1, stddev=0.1)\n",
    "fit_g = fitting.LevMarLSQFitter()\n",
    "g = fit_g(g_init, x[:len(x)-1], y)\n",
    "plt.plot(x, g(x), 'k')\n",
    "\n",
    "plt.annotate('$\\sigma = %.5f$' % np.std(res),\n",
    "            xy=(50, 225), xycoords='figure points', fontsize=15)\n",
    "plt.annotate('$\\overline{x} =%.5f$'%(np.mean(res)),\n",
    "             xy=(50,200), xycoords = 'figure points', fontsize = 15)\n",
    "plt.title('PDF of Residual)', fontsize = 20)\n",
    "plt.xlabel('$CaH&K_0$ (expected - predicted)', fontsize = 15)\n",
    "plt.ylabel('Probability Desity')\n",
    "plt.show()"
   ]
  },
  {
   "cell_type": "code",
   "execution_count": 5,
   "metadata": {
    "scrolled": true
   },
   "outputs": [],
   "source": [
    "import joblib\n",
    "def loadAll(filename):\n",
    "    x  = [joblib.load(filename + end +\".P\") for end in [\"\", \"Params\", \"Data\"]]\n",
    "    return x[0],x[1],x[2] #model, params, data\n",
    "\n",
    "testmodel, testp, testd = loadAll('../FeH/SynthPhotoNN/PredlimClassVal1')\n",
    "testd_fake = testd.copy(deep = True)\n",
    "testd_fake['CaHK_0'] = model.predict(testd[inputs])\n",
    "fakefits = fitsParser(includefile = '../FeH/FeHdata.txt')\n",
    "fakefits.data = testd_fake\n",
    "fakefits.makeColours(N=10)\n"
   ]
  },
  {
   "cell_type": "code",
   "execution_count": 6,
   "metadata": {},
   "outputs": [],
   "source": [
    "def com_matrix(df, mets, classes, exp_class = 'class', pred_class = 'FeH_pred'):\n",
    "    return [[len(data[data[pred_class]==c])*1.0/len(data) if len(data) != 0 else -1 for c in classes] for data in \n",
    "             [df[((mets[i]>df['FeHadop'])&(df['FeHadop']>mets[i+1]) if i!= len(mets)-1 else df['FeHadop']<mets[i-1])] for i in range(len(mets))]]\n",
    "\n",
    "def pretty_print(matrix, rows, columns):\n",
    "    display(pd.DataFrame(matrix, columns = columns, index = rows))\n",
    "    \n",
    "def purities(data, classes):\n",
    "    return [[len(data[(data['FeH_pred']==c1)&(data['class']==c2)])*1.0/len(data[data['FeH_pred']==c1]) if len(data[data['FeH_pred']==c1])!= 0 else -1 for c2 in classes]\n",
    "            for c1 in classes]"
   ]
  },
  {
   "cell_type": "markdown",
   "metadata": {},
   "source": [
    "# With real CaHK"
   ]
  },
  {
   "cell_type": "code",
   "execution_count": 7,
   "metadata": {},
   "outputs": [
    {
     "name": "stdout",
     "output_type": "stream",
     "text": [
      "all y.\n",
      "| [Fe/H]< | purity | completness |\n",
      "----------------------------------\n",
      "| -2.0    | 1.0000 | 1.0000      |\n",
      "| -2.5    | 0.5243 | 0.7668      |\n",
      "| -3.0    | 0.3023 | 0.2826      |\n",
      "\n",
      "          -2.0      -2.5      -3.0\n",
      "-2.0  0.563275  0.409429  0.027295\n",
      "-2.5  0.251208  0.657005  0.091787\n",
      "-3.0  0.152174  0.565217  0.282609 \n",
      "\n",
      "test y\n",
      "| [Fe/H]< | purity | completness |\n",
      "----------------------------------\n",
      "| -2.0    | 1.0000 | 1.0000      |\n",
      "| -2.5    | 0.4615 | 0.7660      |\n",
      "| -3.0    | 0.2857 | 0.2222      |\n",
      "\n",
      "          -2.0      -2.5      -3.0\n",
      "-2.0  0.505882  0.470588  0.023529\n",
      "-2.5  0.236842  0.684211  0.078947\n",
      "-3.0  0.222222  0.555556  0.222222 \n",
      "\n",
      "pristine\n",
      "| [Fe/H]< | purity | completness |\n",
      "----------------------------------\n",
      "| -2.0    | 1.0000 | 1.0000      |\n",
      "| -2.5    | 0.4081 | 0.9921      |\n",
      "| -3.0    | 0.1098 | 0.6304      |\n",
      "\n",
      "          -2.0      -2.5      -3.0\n",
      "-2.0  0.096774  0.531017  0.372208\n",
      "-2.5  0.009662  0.579710  0.410628\n",
      "-3.0  0.000000  0.369565  0.630435 \n",
      "\n"
     ]
    }
   ],
   "source": [
    "data = testd.copy()\n",
    "classes = testp['classes']\n",
    "i = [-2,-2.5,-3]\n",
    "pur, com = psMetric(data, inc = i)\n",
    "\n",
    "\n",
    "#data['FeH_pred'] = data['FeH_pred']*[0 if x==0 else 1 for x in data['bin_class']]\n",
    "print 'all y.'\n",
    "print printTable(i ,pur,com)\n",
    "print pd.DataFrame(conf_matrix(data, classes), columns = classes, index = classes) , '\\n'      \n",
    "print 'test y'             \n",
    "pur2, com2 = psMetric(data[(data['test_flag']==1)], inc = i)\n",
    "print printTable(i,pur2,com2)\n",
    "print pd.DataFrame(conf_matrix(data[(data['test_flag']==1)], classes), columns = classes, index = classes),'\\n'  \n",
    "print 'pristine'\n",
    "pur3, com3 = psMetric(data, inc = i, pred = 'FeHround_prist')\n",
    "print printTable(i,pur3,com3)\n",
    "print pd.DataFrame(conf_matrix(data, classes, pred = 'FeHround_prist'), columns = classes, index = classes),'\\n' "
   ]
  },
  {
   "cell_type": "markdown",
   "metadata": {},
   "source": [
    "# With fake CaHK"
   ]
  },
  {
   "cell_type": "code",
   "execution_count": 8,
   "metadata": {},
   "outputs": [
    {
     "name": "stdout",
     "output_type": "stream",
     "text": [
      "all y.\n",
      "| [Fe/H]< | purity | completness |\n",
      "----------------------------------\n",
      "| -2.0    | 1.0000 | 1.0000      |\n",
      "| -2.5    | 0.5714 | 0.0158      |\n",
      "| -3.0    | -1.000 | 0.0000      |\n",
      "\n",
      "          -2.0      -2.5  -3.0\n",
      "-2.0  0.992556  0.007444   0.0\n",
      "-2.5  0.985507  0.014493   0.0\n",
      "-3.0  0.978261  0.021739   0.0 \n",
      "\n",
      "test y\n",
      "| [Fe/H]< | purity | completness |\n",
      "----------------------------------\n",
      "| -2.0    | 1.0000 | 1.0000      |\n",
      "| -2.5    | 1.0000 | 0.0426      |\n",
      "| -3.0    | -1.000 | 0.0000      |\n",
      "\n",
      "          -2.0      -2.5  -3.0\n",
      "-2.0  1.000000  0.000000   0.0\n",
      "-2.5  0.947368  0.052632   0.0\n",
      "-3.0  1.000000  0.000000   0.0 \n",
      "\n",
      "pristine\n",
      "| [Fe/H]< | purity | completness |\n",
      "----------------------------------\n",
      "| -2.0    | 1.0000 | 1.0000      |\n",
      "| -2.5    | 0.4081 | 0.9921      |\n",
      "| -3.0    | 0.1098 | 0.6304      |\n",
      "\n",
      "          -2.0      -2.5      -3.0\n",
      "-2.0  0.096774  0.531017  0.372208\n",
      "-2.5  0.009662  0.579710  0.410628\n",
      "-3.0  0.000000  0.369565  0.630435 \n",
      "\n"
     ]
    }
   ],
   "source": [
    "\n",
    "\n",
    "pretrans = lambda data : [[1 if False not in [x[i] > y or y == x[i] for y in x ] else 0 for i in range(len(x))] for x in data] \n",
    "fakefits.data['FeH_pred'] = [testp['classes'][x.index(1)] for x in pretrans(testmodel.predict(fakefits.data[testp['colours']]))]\n",
    "\n",
    "data = fakefits.data\n",
    "classes = testp['classes']\n",
    "i = [-2,-2.5,-3]\n",
    "pur, com = psMetric(data, inc = i)\n",
    "\n",
    "#data['FeH_pred'] = data['FeH_pred']*[0 if x==0 else 1 for x in data['bin_class']]\n",
    "print 'all y.'\n",
    "print printTable(i ,pur,com)\n",
    "print pd.DataFrame(conf_matrix(data, classes), columns = classes, index = classes) , '\\n'      \n",
    "print 'test y'             \n",
    "pur2, com2 = psMetric(data[(data['test_flag']==1)], inc = i)\n",
    "print printTable(i,pur2,com2)\n",
    "print pd.DataFrame(conf_matrix(data[(data['test_flag']==1)], classes), columns = classes, index = classes),'\\n'  \n",
    "print 'pristine'\n",
    "pur3, com3 = psMetric(data, inc = i, pred = 'FeHround_prist')\n",
    "print printTable(i,pur3,com3)\n",
    "print pd.DataFrame(conf_matrix(data, classes, pred = 'FeHround_prist'), columns = classes, index = classes),'\\n' "
   ]
  },
  {
   "cell_type": "code",
   "execution_count": 9,
   "metadata": {
    "scrolled": false
   },
   "outputs": [
    {
     "data": {
      "text/plain": [
       "['colours', 'classes', 'binsize']"
      ]
     },
     "execution_count": 9,
     "metadata": {},
     "output_type": "execute_result"
    }
   ],
   "source": [
    "testp.keys()"
   ]
  }
 ],
 "metadata": {
  "kernelspec": {
   "display_name": "Python 2",
   "language": "python",
   "name": "python2"
  },
  "language_info": {
   "codemirror_mode": {
    "name": "ipython",
    "version": 2
   },
   "file_extension": ".py",
   "mimetype": "text/x-python",
   "name": "python",
   "nbconvert_exporter": "python",
   "pygments_lexer": "ipython2",
   "version": "2.7.15"
  }
 },
 "nbformat": 4,
 "nbformat_minor": 2
}
